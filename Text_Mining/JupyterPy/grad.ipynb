{
 "cells": [
  {
   "cell_type": "code",
   "execution_count": 1,
   "metadata": {},
   "outputs": [],
   "source": [
    "from konlpy.tag import Kkma\n",
    "kkma = Kkma()"
   ]
  },
  {
   "cell_type": "code",
   "execution_count": 2,
   "metadata": {},
   "outputs": [
    {
     "data": {
      "text/plain": [
       "['이것은 형태소 분석기 입니다', '아버지가방에 들어가신다']"
      ]
     },
     "execution_count": 2,
     "metadata": {},
     "output_type": "execute_result"
    }
   ],
   "source": [
    "kkma.sentences('이것은 형태소 분석기 입니다 아버지가방에들어가신다')"
   ]
  },
  {
   "cell_type": "code",
   "execution_count": 3,
   "metadata": {},
   "outputs": [
    {
     "data": {
      "text/plain": [
       "['이것', '형태소', '분석기', '아버지', '아버지가방', '가방']"
      ]
     },
     "execution_count": 3,
     "metadata": {},
     "output_type": "execute_result"
    }
   ],
   "source": [
    "kkma.nouns('이것은 형태소 분석기 입니다 아버지가방에들어가신다')"
   ]
  },
  {
   "cell_type": "code",
   "execution_count": 4,
   "metadata": {},
   "outputs": [
    {
     "data": {
      "text/plain": [
       "[('이것', 'NP'),\n",
       " ('은', 'JX'),\n",
       " ('형태소', 'NNG'),\n",
       " ('분석기', 'NNG'),\n",
       " ('이', 'VCP'),\n",
       " ('ㅂ니다', 'EFN'),\n",
       " ('아버지', 'NNG'),\n",
       " ('가방', 'NNG'),\n",
       " ('에', 'JKM'),\n",
       " ('들어가', 'VV'),\n",
       " ('시', 'EPH'),\n",
       " ('ㄴ다', 'EFN')]"
      ]
     },
     "execution_count": 4,
     "metadata": {},
     "output_type": "execute_result"
    }
   ],
   "source": [
    "kkma.pos('이것은 형태소 분석기 입니다 아버지가방에들어가신다')"
   ]
  },
  {
   "cell_type": "code",
   "execution_count": 5,
   "metadata": {},
   "outputs": [],
   "source": [
    "# 필요한 패키지와 라이브러리를 가져옴\n",
    "import matplotlib as mpl\n",
    "import matplotlib.pyplot as plt\n",
    "import matplotlib.font_manager as fm"
   ]
  },
  {
   "cell_type": "code",
   "execution_count": 6,
   "metadata": {},
   "outputs": [
    {
     "name": "stdout",
     "output_type": "stream",
     "text": [
      "버전:  3.0.3\n",
      "설치 위치:  C:\\Users\\DH\\Anaconda3\\lib\\site-packages\\matplotlib\\__init__.py\n",
      "설정 위치:  C:\\Users\\DH\\.matplotlib\n",
      "캐시 위치:  C:\\Users\\DH\\.matplotlib\n",
      "설정파일 위치:  C:\\Users\\DH\\Anaconda3\\lib\\site-packages\\matplotlib\\mpl-data\\matplotlibrc\n",
      "\n",
      "\n",
      "시스템폰트 전체갯수: 795\n"
     ]
    }
   ],
   "source": [
    "print ('버전: ', mpl.__version__)\n",
    "print ('설치 위치: ', mpl.__file__)\n",
    "print ('설정 위치: ', mpl.get_configdir())\n",
    "print ('캐시 위치: ', mpl.get_cachedir())\n",
    "print ('설정파일 위치: ', mpl.matplotlib_fname())\n",
    "\n",
    "font_list = fm.findSystemFonts(fontpaths=None, fontext='ttf')\n",
    "# ttf 폰트 전체갯수\n",
    "print(\"\\n\\n시스템폰트 전체갯수:\", len(font_list)) \n",
    "\n",
    "# OSX 의 설치 된 폰트를 가져오는 함수\n",
    "#font_list_mac = fm.OSXInstalledFonts()\n",
    "#print(\"\\n설치된 폰트\", len(font_list_mac))"
   ]
  },
  {
   "cell_type": "code",
   "execution_count": 7,
   "metadata": {},
   "outputs": [
    {
     "name": "stdout",
     "output_type": "stream",
     "text": [
      "시스템폰트 리스트에서 상위 10개만 출력\n",
      "1 \t C:\\Windows\\Fonts\\taileb.ttf \t\n",
      "2 \t C:\\Windows\\Fonts\\210+OmniGothic+030.ttf \t\n",
      "3 \t C:\\WINDOWS\\Fonts\\CENSCBK.TTF \t\n",
      "4 \t C:\\WINDOWS\\Fonts\\timesbi.ttf \t\n",
      "5 \t C:\\WINDOWS\\Fonts\\LSANSD.TTF \t\n",
      "6 \t C:\\Windows\\Fonts\\GILB____.TTF \t\n",
      "7 \t C:\\WINDOWS\\Fonts\\calibrili.ttf \t\n",
      "8 \t C:\\Windows\\Fonts\\corbelb.ttf \t\n",
      "9 \t C:\\WINDOWS\\Fonts\\HMFMPYUN.TTF \t\n",
      "10 \t C:\\WINDOWS\\Fonts\\KUNSTLER.TTF \t\n"
     ]
    }
   ],
   "source": [
    "print(\"시스템폰트 리스트에서 상위 10개만 출력\")\n",
    "for i in range(10) :\n",
    "        print(i+1, \"\\t\", font_list[i], \"\\t\")"
   ]
  },
  {
   "cell_type": "code",
   "execution_count": 8,
   "metadata": {},
   "outputs": [
    {
     "name": "stdout",
     "output_type": "stream",
     "text": [
      "저장된 폰트중에서 10개만 출력\n",
      "1 \t DejaVu Serif \t\n",
      "2 \t STIXSizeFourSym \t\n",
      "3 \t STIXSizeTwoSym \t\n",
      "4 \t DejaVu Sans \t\n",
      "5 \t STIXNonUnicode \t\n",
      "6 \t STIXSizeThreeSym \t\n",
      "7 \t STIXGeneral \t\n",
      "8 \t STIXSizeThreeSym \t\n",
      "9 \t cmss10 \t\n",
      "10 \t DejaVu Sans Mono \t\n"
     ]
    },
    {
     "data": {
      "text/plain": [
       "[]"
      ]
     },
     "execution_count": 8,
     "metadata": {},
     "output_type": "execute_result"
    }
   ],
   "source": [
    "f = [f.name for f in fm.fontManager.ttflist]\n",
    "\n",
    "print(\"저장된 폰트중에서 10개만 출력\")\n",
    "for i in range(10) :\n",
    "        print(i+1, \"\\t\", f[i], \"\\t\")\n",
    "\n",
    "\n",
    "[(f.name, f.fname) for f in fm.fontManager.ttflist\n",
    "     if 'lower' in f.name]"
   ]
  },
  {
   "cell_type": "code",
   "execution_count": null,
   "metadata": {},
   "outputs": [],
   "source": [
    "#json파일 인코딩 문제 해결 코드\n",
    "\n",
    "def file_convert(filename):\n",
    "    convert_filename = 'result444.json'\n",
    "    bytes = min(32, os.path.getsize(filename))\n",
    "    raw = open(filename, 'rb').read(bytes)\n",
    "    \n",
    "    if raw.startswith(codecs.BOM_UTF8):\n",
    "        encoding = 'utf-8-sig'\n",
    "        \n",
    "    else:\n",
    "        result = chardet.detect(raw)\n",
    "        encoding = result['encoding']\n",
    "        \n",
    "    infile = io.open(filename, 'r', encoding=encoding)\n",
    "    data = infile.read()\n",
    "    infile.close()\n",
    "    \n",
    "    oo = open(convert_filename, 'w', encoding='UTF8')\n",
    "    oo.write(data)\n",
    "    oo.close()\n",
    "    \n",
    "    return convert_filename"
   ]
  },
  {
   "cell_type": "code",
   "execution_count": null,
   "metadata": {},
   "outputs": [],
   "source": [
    "#[CODE 1] 빈도수 체크 그래프 그리기\n",
    "def showGraph(wordInfo):\n",
    "    \n",
    "    font_location = \"c:/Windows/fonts/SangSangFlowerRoad.ttf\"\n",
    "    font_name = font_manager.FontProperties(fname=font_location).get_name()\n",
    "    matplotlib.rc('font', family=font_name)\n",
    "    \n",
    "    #font_location = \"c:/Windows/fonts/Josefin Sans.ttf\"\n",
    "    #font_name = font_manager.FontProperties(fname=font_location).get_name()\n",
    "    #matplotlib.rc('font', family=font_name)\n",
    "\n",
    "    plt.xlabel('주요 단어')\n",
    "    plt.ylabel('빈도수')\n",
    "    plt.grid(True)\n",
    "    \n",
    "    Sorted_Dict_Values = sorted(wordInfo.values(), reverse=True)\n",
    "    Sorted_Dict_Keys = sorted(wordInfo, key=wordInfo.get, reverse=True)\n",
    "\n",
    "    plt.bar(range(len(wordInfo)), Sorted_Dict_Values, align='center')\n",
    "    plt.xticks(range(len(wordInfo)), list(Sorted_Dict_Keys), rotation='70')\n",
    "\n",
    "    plt.show()"
   ]
  },
  {
   "cell_type": "code",
   "execution_count": null,
   "metadata": {},
   "outputs": [],
   "source": [
    "#[CODE 2] 새 창에 워드 클라우드 생성\n",
    "def saveWordCloud(wordInfo, filename):\n",
    "    \n",
    "    taglist = pytagcloud.make_tags(dict(wordInfo).items(), maxsize=80)\n",
    "    pytagcloud.create_tag_image(taglist, filename, size=(640, 480), fontname=\"korean\", rectangular=False)\n",
    "    webbrowser.open(filename) "
   ]
  },
  {
   "cell_type": "code",
   "execution_count": null,
   "metadata": {},
   "outputs": [
    {
     "name": "stdout",
     "output_type": "stream",
     "text": [
      "pygame 1.9.6\n",
      "Hello from the pygame community. https://www.pygame.org/contribute.html\n"
     ]
    }
   ],
   "source": [
    "# 한국어 파일 읽기\n",
    "#-*- encoding: utf8 -*-\n",
    "import sys\n",
    "from functools import update_wrapper\n",
    "from django.conf import settings\n",
    "from django.core.exceptions import ImproperlyConfigured\n",
    "from django.db.models.base import ModelBase\n",
    "from django.views.decorators.cache import never_cache\n",
    "from imp import reload\n",
    "reload(sys)\n",
    "#sys.setdefaultencoding('utf-8')\n",
    "\n",
    "\n",
    "# 명사 추출 및 빈도 분석\n",
    "import json\n",
    "import re\n",
    "\n",
    "from konlpy.tag import Kkma\n",
    "from konlpy.utils import pprint\n",
    "from collections import Counter\n",
    "\n",
    "import matplotlib.pyplot as plt\n",
    "import matplotlib\n",
    "from matplotlib import font_manager, rc\n",
    "import matplotlib as mpl\n",
    "\n",
    "import pytagcloud\n",
    "import webbrowser\n",
    "\n",
    "\n",
    "#from __future__ import print_function\n",
    "from lexrankr import LexRank\n",
    "from lexrank import STOPWORDS\n",
    "\n",
    "# 그래프를 노트북 안에 그리기 위해 설정\n",
    "%matplotlib inline\n",
    "\n",
    "# 그래프에서 마이너스 폰트 깨지는 문제에 대한 대처\n",
    "mpl.rcParams['axes.unicode_minus'] = False\n",
    "\n",
    "import numpy as np\n",
    "import io\n",
    "import chardet\n",
    "import os\n",
    "import codecs\n",
    "\n",
    "import pandas as pd\n",
    "\n",
    "import copy\n",
    "\n",
    "import json\n",
    "from collections import OrderedDict"
   ]
  },
  {
   "cell_type": "code",
   "execution_count": null,
   "metadata": {},
   "outputs": [],
   "source": [
    "def study():\n",
    "    #여기서 파일의 경로는 실제 JSON 데이터가 저장된 경로이다\n",
    "    openFileName = 'C:/Users/DH\\Desktop/JupyterPy/rawdata/crawling/result1.json'\n",
    "    #openFileName = file_convert(\"result444.json\")\n",
    "    \n",
    "    cloudImagePath = openFileName + '.jpg'\n",
    "    rfile = open(openFileName, 'r', encoding='utf-8').read()\n",
    "    \n",
    "    jsonData = json.loads(rfile)\n",
    "    contents = ''\n",
    "    \n",
    "    \n",
    "    \n",
    "    #[CODE 3]\n",
    "    \n",
    "    for item in jsonData:\n",
    "        if 'contents' in item.keys():\n",
    "            print(\"\\n[content]\\n\", content, \"\\n\\n\")\n",
    "            #content = content + re.sub(r'[^\\w]', ' ', item['content']) + ' '\n",
    "            content = content + re.sub('\\n\\n', '.\\n', item['content']) + ' '\n",
    "        \n",
    "    #[CODE 4]\n",
    "    kkma = Kkma()\n",
    "    nouns = kkma.nouns(content)\n",
    "    count = Counter(nouns)\n",
    "    \n",
    "    #[CODE 6]\n",
    "    print(\"\\n[원문]\\n\", content, \"\\n\\n\")\n",
    "    lexrank = LexRank()\n",
    "    #lexrank.summarize('''\\n\\n합성동 노타이틀, 마산 합성동카페 (NO TITLE)\\n\\n\\n여긴 2-3번 정도 갔었던 듯?갈때마다 조금씩 발전하는 합성동 노타이틀\\n\\n이 우니로그에는 포스팅 안했으니 또 간김에 냉큼 찍어와따!\\n\\n@ 합성동 노타이틀, 마산 합성동카페 (NO TITLE)평일 낮의 코히타임은 언제나 사랑이쥬?\\n\\n이날 마산카페 한 4군데 튕기고 여기 간 듯^^ㅋㅋㅋㅋㅋㅋㅋㅋㅋㅋㅋㅋㅋㅋ마산 일안하냐?\\n\\n그래서 합성동 노타이틀도 안하면어쩌냐고 노심초사하며 들어갔는데OPEN 문구가 날 반겨주는거 있됴?\\n\\n아이 조아라\\n\\n더욱 더 분위기 있어진 마산 합성동카페 노타이틀날 좋은 날 저기 앉아서 수다 떨면 얼마나 좋게요?\\n\\n근데 이날 햇빛쩔고 넘나 더워서 바로 안으로 직행ㅋㅋㅋㅋㅋㅋㅋㅋㅋㅋㅋㅋㅋㅋ에어컨 플리쥬^^\\n\\n못보던 의자도 생겼고저땐 사진찍는다고 정신없어서잘 몰랐는데 지금 보니 저 자리 너무 귀엽!\\n\\n합성동 노타이틀 사장님과 직원?뭔가 닮았다..\\n\\n어두컴컴한 분위기는 싫어하지만 그래도 빛이 잘 들어오는 곳은 너무 좋아요리:)그리고 노타이틀은 커피가 맛있으니까 더 조하!\\n\\n마산 노타이틀 메뉴판이니 참고하세요:)\\n\\n바로앞에는 셀프바가 마련되어 있고요?\\n\\n물잔도 이뽀다깔끄미한게 내 스타일이야\\n\\n내부는 대략적으로 이런 느낌?젤 안쪽에 초 쫍은 쇼파? 비스무리한자리도 있었는데 지금도 있나 모르겠네요..ㅎ\\n\\n항상 구석탱이에 앉다가 이날은 손님도없고 볕도 좋고 해서 센타에 앉아봄^^\\n\\n센타..그리고 플랫..\\n\\n조타..역광이라도 좋아\\n\\n합성동 노타이틀 플랫화이트내가 인정하는 플랫 중 하나고요?\\n\\n사진찍는다고 설치느랴 코히가 좀 많이 내려왔지만그래도 트레이도 컵도 맛도 전부다 맘에 들어버려..\\n\\n나 신나니까 달달한거도 먹어버려..근데 이거 진짜 초 달아버려..ㅋㅋㅋㅋㅋㅋㅋㅋㅋㅋㅋㅋ브라우니는 사람인원수에 맞게끔컷팅해주시는 것 같더라고요!엄청 꾸덕한데 달고..근데 손이 가고.. 신기쓰..ㅎㅎ\\n\\n밖에는 화장실인줄 알았더니 이렇게 손씻는 공간이 또 따로 마련되어 있었어요!센스탱 노타이틀 ~\\n\\n루프탑은 귀찮아서 안찍어 왔는데엄청 막 이쁘거나 분위기가 쩔거나뷰가 좋거나 하지는 않지만 다들더 더워지기 전에 올라갔다 오시길^^\\n\\n쨋든 노타이틀은 합성동카페 중에 젤마싯서!위치 : 경남 창원시 마산회원구 합성동 124-13영업시간 : pm12:00 ~ pm10:00 (금,토는 1시간 더 연장영업) (매주 월요일은 휴무입니다.)예약문의 : 055-255-1171\\n''')\n",
    "    lexrank.summarize(content)\n",
    "\n",
    "    summaries = lexrank.probe()\n",
    "    print(\"\\n[요약문 전체]\",\"\\n\", summaries, \"\\n\")\n",
    "\n",
    "    for i, summary in enumerate(summaries):\n",
    "        print(\"\\n[요약문 일부\", str(i), \"]\\t\", summary, \"\\n\")\n",
    "        \n",
    "        \n",
    "        \n",
    "        \n",
    "    #[CODE 5]\n",
    "    wordInfo = dict()\n",
    "    for tags, counts in count.most_common(50):\n",
    "        if (len(str(tags)) > 1):\n",
    "            wordInfo[tags] = counts\n",
    "            print (\"%s : %d\" % (tags, counts))\n",
    "            \n",
    "    plt.style.use('seaborn-pastel')      \n",
    "    \n",
    "    #showGraph(wordInfo) #그래프\n",
    "    #saveWordCloud(wordInfo, cloudImagePath) #워드클라우드"
   ]
  },
  {
   "cell_type": "code",
   "execution_count": null,
   "metadata": {},
   "outputs": [],
   "source": [
    "def reform_txt(contents):\n",
    "    \n",
    "    #데이터 요약\n",
    "#     if (contents):\n",
    "#         return \"\"\n",
    "    try:\n",
    "        contents = re.sub('\\n\\n', '.\\n', contents)\n",
    "        lexrank = LexRank()\n",
    "        lexrank.summarize(contents)\n",
    "        summaries = lexrank.probe()\n",
    "    except:\n",
    "        return \"\"\n",
    "\n",
    "#     for i, summary in enumerate(summaries):\n",
    "#         print(str(i), summary)\n",
    "    reform = summaries\n",
    "    \n",
    "    return reform"
   ]
  },
  {
   "cell_type": "code",
   "execution_count": null,
   "metadata": {},
   "outputs": [],
   "source": [
    "def pull_rawdata(path_to_json, json_files):\n",
    "    \n",
    "    # 빈 데이터프레임 정의\n",
    "    jsons_dataframe = pd.DataFrame(columns=['title', 'href', 'contents', 'reform'])\n",
    "    #jsons_dataframe.set_index('index_id', inplace=True)\n",
    "    #display(pd.DataFrame(jsons_dataframe))\n",
    "    \n",
    "    #인덱싱 및 데이터 끌어오기\n",
    "    for index, js in enumerate(json_files):  \n",
    "        with open(os.path.join(path_to_json, js), encoding='utf-8-sig') as json_file:\n",
    "            json_text = json.load(json_file)\n",
    "            \n",
    "            #print(\"json_file: \", json_file)\n",
    "            #print(\"\\n--------------------------------------------\\n: \")\n",
    "            #print(json_text)\n",
    "            \n",
    "            # 태그별 데이터 저장\n",
    "            title = json_text['title']\n",
    "            href = json_text['href']\n",
    "            contents = json_text['contents']\n",
    "            reform = reform_txt(contents)\n",
    "            #reform = \"\"\n",
    "            \n",
    "                \n",
    "                \n",
    "\n",
    "            # 데이터프레임 저장\n",
    "            jsons_dataframe.loc[index] = [title, href, contents, reform]\n",
    "            \n",
    "            \n",
    "    #display(pd.DataFrame(jsons_dataframe))\n",
    "    return jsons_dataframe"
   ]
  },
  {
   "cell_type": "code",
   "execution_count": null,
   "metadata": {},
   "outputs": [],
   "source": [
    "def main():\n",
    "    \n",
    "    # 파일 찾기\n",
    "    path_to_json = u'C:/Users/DH/Desktop/wherewego-master/Source/resultdir/서울 근교 힐링'\n",
    "    json_files = [pos_json for pos_json in os.listdir(path_to_json) if pos_json.endswith('.json')]\n",
    "    #print(json_files)  # for me this prints ['foo.json']\n",
    "    \n",
    "    # 데이터 정제 및 데이터프레임 생성\n",
    "    df = pull_rawdata(path_to_json, json_files)\n",
    "    \n",
    "    # 데이터프레임 출력\n",
    "    #pd.set_option('display.max_columns', None)  # or 1000\n",
    "    #pd.set_option('display.max_rows', None)  # or 1000\n",
    "    #pd.set_option('display.max_colwidth', -1)  # or 199\n",
    "    \n",
    "    #print(df.iloc[:, [0,1,3]])\n",
    "    print(df)\n",
    "    print(\"\\n\\n\\n끝\\n\\n\\n\")\n",
    "    \n",
    "#     with pd.option_context('display.max_rows', None, 'display.max_columns', None):\n",
    "#         print(df[:][:1])\n",
    "        \n",
    "#     from IPython.core.display import HTML\n",
    "#     display(HTML(df[:,:].to_html()))"
   ]
  },
  {
   "cell_type": "code",
   "execution_count": null,
   "metadata": {
    "scrolled": true
   },
   "outputs": [
    {
     "name": "stderr",
     "output_type": "stream",
     "text": [
      "C:\\Users\\DH\\Anaconda3\\lib\\site-packages\\konlpy\\tag\\_okt.py:16: UserWarning: \"Twitter\" has changed to \"Okt\" since KoNLPy v0.4.5.\n",
      "  warn('\"Twitter\" has changed to \"Okt\" since KoNLPy v0.4.5.')\n",
      "C:\\Users\\DH\\Anaconda3\\lib\\site-packages\\konlpy\\tag\\_okt.py:16: UserWarning: \"Twitter\" has changed to \"Okt\" since KoNLPy v0.4.5.\n",
      "  warn('\"Twitter\" has changed to \"Okt\" since KoNLPy v0.4.5.')\n",
      "C:\\Users\\DH\\Anaconda3\\lib\\site-packages\\konlpy\\tag\\_okt.py:16: UserWarning: \"Twitter\" has changed to \"Okt\" since KoNLPy v0.4.5.\n",
      "  warn('\"Twitter\" has changed to \"Okt\" since KoNLPy v0.4.5.')\n",
      "C:\\Users\\DH\\Anaconda3\\lib\\site-packages\\konlpy\\tag\\_okt.py:16: UserWarning: \"Twitter\" has changed to \"Okt\" since KoNLPy v0.4.5.\n",
      "  warn('\"Twitter\" has changed to \"Okt\" since KoNLPy v0.4.5.')\n",
      "C:\\Users\\DH\\Anaconda3\\lib\\site-packages\\konlpy\\tag\\_okt.py:16: UserWarning: \"Twitter\" has changed to \"Okt\" since KoNLPy v0.4.5.\n",
      "  warn('\"Twitter\" has changed to \"Okt\" since KoNLPy v0.4.5.')\n",
      "C:\\Users\\DH\\Anaconda3\\lib\\site-packages\\konlpy\\tag\\_okt.py:16: UserWarning: \"Twitter\" has changed to \"Okt\" since KoNLPy v0.4.5.\n",
      "  warn('\"Twitter\" has changed to \"Okt\" since KoNLPy v0.4.5.')\n",
      "C:\\Users\\DH\\Anaconda3\\lib\\site-packages\\konlpy\\tag\\_okt.py:16: UserWarning: \"Twitter\" has changed to \"Okt\" since KoNLPy v0.4.5.\n",
      "  warn('\"Twitter\" has changed to \"Okt\" since KoNLPy v0.4.5.')\n",
      "C:\\Users\\DH\\Anaconda3\\lib\\site-packages\\konlpy\\tag\\_okt.py:16: UserWarning: \"Twitter\" has changed to \"Okt\" since KoNLPy v0.4.5.\n",
      "  warn('\"Twitter\" has changed to \"Okt\" since KoNLPy v0.4.5.')\n",
      "C:\\Users\\DH\\Anaconda3\\lib\\site-packages\\konlpy\\tag\\_okt.py:16: UserWarning: \"Twitter\" has changed to \"Okt\" since KoNLPy v0.4.5.\n",
      "  warn('\"Twitter\" has changed to \"Okt\" since KoNLPy v0.4.5.')\n",
      "C:\\Users\\DH\\Anaconda3\\lib\\site-packages\\konlpy\\tag\\_okt.py:16: UserWarning: \"Twitter\" has changed to \"Okt\" since KoNLPy v0.4.5.\n",
      "  warn('\"Twitter\" has changed to \"Okt\" since KoNLPy v0.4.5.')\n",
      "C:\\Users\\DH\\Anaconda3\\lib\\site-packages\\konlpy\\tag\\_okt.py:16: UserWarning: \"Twitter\" has changed to \"Okt\" since KoNLPy v0.4.5.\n",
      "  warn('\"Twitter\" has changed to \"Okt\" since KoNLPy v0.4.5.')\n",
      "C:\\Users\\DH\\Anaconda3\\lib\\site-packages\\konlpy\\tag\\_okt.py:16: UserWarning: \"Twitter\" has changed to \"Okt\" since KoNLPy v0.4.5.\n",
      "  warn('\"Twitter\" has changed to \"Okt\" since KoNLPy v0.4.5.')\n",
      "C:\\Users\\DH\\Anaconda3\\lib\\site-packages\\konlpy\\tag\\_okt.py:16: UserWarning: \"Twitter\" has changed to \"Okt\" since KoNLPy v0.4.5.\n",
      "  warn('\"Twitter\" has changed to \"Okt\" since KoNLPy v0.4.5.')\n",
      "C:\\Users\\DH\\Anaconda3\\lib\\site-packages\\konlpy\\tag\\_okt.py:16: UserWarning: \"Twitter\" has changed to \"Okt\" since KoNLPy v0.4.5.\n",
      "  warn('\"Twitter\" has changed to \"Okt\" since KoNLPy v0.4.5.')\n",
      "C:\\Users\\DH\\Anaconda3\\lib\\site-packages\\konlpy\\tag\\_okt.py:16: UserWarning: \"Twitter\" has changed to \"Okt\" since KoNLPy v0.4.5.\n",
      "  warn('\"Twitter\" has changed to \"Okt\" since KoNLPy v0.4.5.')\n",
      "C:\\Users\\DH\\Anaconda3\\lib\\site-packages\\konlpy\\tag\\_okt.py:16: UserWarning: \"Twitter\" has changed to \"Okt\" since KoNLPy v0.4.5.\n",
      "  warn('\"Twitter\" has changed to \"Okt\" since KoNLPy v0.4.5.')\n",
      "C:\\Users\\DH\\Anaconda3\\lib\\site-packages\\konlpy\\tag\\_okt.py:16: UserWarning: \"Twitter\" has changed to \"Okt\" since KoNLPy v0.4.5.\n",
      "  warn('\"Twitter\" has changed to \"Okt\" since KoNLPy v0.4.5.')\n",
      "C:\\Users\\DH\\Anaconda3\\lib\\site-packages\\konlpy\\tag\\_okt.py:16: UserWarning: \"Twitter\" has changed to \"Okt\" since KoNLPy v0.4.5.\n",
      "  warn('\"Twitter\" has changed to \"Okt\" since KoNLPy v0.4.5.')\n",
      "C:\\Users\\DH\\Anaconda3\\lib\\site-packages\\konlpy\\tag\\_okt.py:16: UserWarning: \"Twitter\" has changed to \"Okt\" since KoNLPy v0.4.5.\n",
      "  warn('\"Twitter\" has changed to \"Okt\" since KoNLPy v0.4.5.')\n",
      "C:\\Users\\DH\\Anaconda3\\lib\\site-packages\\konlpy\\tag\\_okt.py:16: UserWarning: \"Twitter\" has changed to \"Okt\" since KoNLPy v0.4.5.\n",
      "  warn('\"Twitter\" has changed to \"Okt\" since KoNLPy v0.4.5.')\n",
      "C:\\Users\\DH\\Anaconda3\\lib\\site-packages\\konlpy\\tag\\_okt.py:16: UserWarning: \"Twitter\" has changed to \"Okt\" since KoNLPy v0.4.5.\n",
      "  warn('\"Twitter\" has changed to \"Okt\" since KoNLPy v0.4.5.')\n",
      "C:\\Users\\DH\\Anaconda3\\lib\\site-packages\\konlpy\\tag\\_okt.py:16: UserWarning: \"Twitter\" has changed to \"Okt\" since KoNLPy v0.4.5.\n",
      "  warn('\"Twitter\" has changed to \"Okt\" since KoNLPy v0.4.5.')\n",
      "C:\\Users\\DH\\Anaconda3\\lib\\site-packages\\konlpy\\tag\\_okt.py:16: UserWarning: \"Twitter\" has changed to \"Okt\" since KoNLPy v0.4.5.\n",
      "  warn('\"Twitter\" has changed to \"Okt\" since KoNLPy v0.4.5.')\n",
      "C:\\Users\\DH\\Anaconda3\\lib\\site-packages\\konlpy\\tag\\_okt.py:16: UserWarning: \"Twitter\" has changed to \"Okt\" since KoNLPy v0.4.5.\n",
      "  warn('\"Twitter\" has changed to \"Okt\" since KoNLPy v0.4.5.')\n",
      "C:\\Users\\DH\\Anaconda3\\lib\\site-packages\\konlpy\\tag\\_okt.py:16: UserWarning: \"Twitter\" has changed to \"Okt\" since KoNLPy v0.4.5.\n",
      "  warn('\"Twitter\" has changed to \"Okt\" since KoNLPy v0.4.5.')\n",
      "C:\\Users\\DH\\Anaconda3\\lib\\site-packages\\konlpy\\tag\\_okt.py:16: UserWarning: \"Twitter\" has changed to \"Okt\" since KoNLPy v0.4.5.\n",
      "  warn('\"Twitter\" has changed to \"Okt\" since KoNLPy v0.4.5.')\n",
      "C:\\Users\\DH\\Anaconda3\\lib\\site-packages\\konlpy\\tag\\_okt.py:16: UserWarning: \"Twitter\" has changed to \"Okt\" since KoNLPy v0.4.5.\n",
      "  warn('\"Twitter\" has changed to \"Okt\" since KoNLPy v0.4.5.')\n",
      "C:\\Users\\DH\\Anaconda3\\lib\\site-packages\\konlpy\\tag\\_okt.py:16: UserWarning: \"Twitter\" has changed to \"Okt\" since KoNLPy v0.4.5.\n",
      "  warn('\"Twitter\" has changed to \"Okt\" since KoNLPy v0.4.5.')\n",
      "C:\\Users\\DH\\Anaconda3\\lib\\site-packages\\konlpy\\tag\\_okt.py:16: UserWarning: \"Twitter\" has changed to \"Okt\" since KoNLPy v0.4.5.\n",
      "  warn('\"Twitter\" has changed to \"Okt\" since KoNLPy v0.4.5.')\n",
      "C:\\Users\\DH\\Anaconda3\\lib\\site-packages\\konlpy\\tag\\_okt.py:16: UserWarning: \"Twitter\" has changed to \"Okt\" since KoNLPy v0.4.5.\n",
      "  warn('\"Twitter\" has changed to \"Okt\" since KoNLPy v0.4.5.')\n",
      "C:\\Users\\DH\\Anaconda3\\lib\\site-packages\\konlpy\\tag\\_okt.py:16: UserWarning: \"Twitter\" has changed to \"Okt\" since KoNLPy v0.4.5.\n",
      "  warn('\"Twitter\" has changed to \"Okt\" since KoNLPy v0.4.5.')\n",
      "C:\\Users\\DH\\Anaconda3\\lib\\site-packages\\konlpy\\tag\\_okt.py:16: UserWarning: \"Twitter\" has changed to \"Okt\" since KoNLPy v0.4.5.\n",
      "  warn('\"Twitter\" has changed to \"Okt\" since KoNLPy v0.4.5.')\n",
      "C:\\Users\\DH\\Anaconda3\\lib\\site-packages\\konlpy\\tag\\_okt.py:16: UserWarning: \"Twitter\" has changed to \"Okt\" since KoNLPy v0.4.5.\n",
      "  warn('\"Twitter\" has changed to \"Okt\" since KoNLPy v0.4.5.')\n",
      "C:\\Users\\DH\\Anaconda3\\lib\\site-packages\\konlpy\\tag\\_okt.py:16: UserWarning: \"Twitter\" has changed to \"Okt\" since KoNLPy v0.4.5.\n",
      "  warn('\"Twitter\" has changed to \"Okt\" since KoNLPy v0.4.5.')\n",
      "C:\\Users\\DH\\Anaconda3\\lib\\site-packages\\konlpy\\tag\\_okt.py:16: UserWarning: \"Twitter\" has changed to \"Okt\" since KoNLPy v0.4.5.\n",
      "  warn('\"Twitter\" has changed to \"Okt\" since KoNLPy v0.4.5.')\n",
      "C:\\Users\\DH\\Anaconda3\\lib\\site-packages\\konlpy\\tag\\_okt.py:16: UserWarning: \"Twitter\" has changed to \"Okt\" since KoNLPy v0.4.5.\n",
      "  warn('\"Twitter\" has changed to \"Okt\" since KoNLPy v0.4.5.')\n",
      "C:\\Users\\DH\\Anaconda3\\lib\\site-packages\\konlpy\\tag\\_okt.py:16: UserWarning: \"Twitter\" has changed to \"Okt\" since KoNLPy v0.4.5.\n",
      "  warn('\"Twitter\" has changed to \"Okt\" since KoNLPy v0.4.5.')\n",
      "C:\\Users\\DH\\Anaconda3\\lib\\site-packages\\konlpy\\tag\\_okt.py:16: UserWarning: \"Twitter\" has changed to \"Okt\" since KoNLPy v0.4.5.\n",
      "  warn('\"Twitter\" has changed to \"Okt\" since KoNLPy v0.4.5.')\n",
      "C:\\Users\\DH\\Anaconda3\\lib\\site-packages\\konlpy\\tag\\_okt.py:16: UserWarning: \"Twitter\" has changed to \"Okt\" since KoNLPy v0.4.5.\n",
      "  warn('\"Twitter\" has changed to \"Okt\" since KoNLPy v0.4.5.')\n",
      "C:\\Users\\DH\\Anaconda3\\lib\\site-packages\\konlpy\\tag\\_okt.py:16: UserWarning: \"Twitter\" has changed to \"Okt\" since KoNLPy v0.4.5.\n",
      "  warn('\"Twitter\" has changed to \"Okt\" since KoNLPy v0.4.5.')\n",
      "C:\\Users\\DH\\Anaconda3\\lib\\site-packages\\konlpy\\tag\\_okt.py:16: UserWarning: \"Twitter\" has changed to \"Okt\" since KoNLPy v0.4.5.\n",
      "  warn('\"Twitter\" has changed to \"Okt\" since KoNLPy v0.4.5.')\n",
      "C:\\Users\\DH\\Anaconda3\\lib\\site-packages\\konlpy\\tag\\_okt.py:16: UserWarning: \"Twitter\" has changed to \"Okt\" since KoNLPy v0.4.5.\n",
      "  warn('\"Twitter\" has changed to \"Okt\" since KoNLPy v0.4.5.')\n",
      "C:\\Users\\DH\\Anaconda3\\lib\\site-packages\\konlpy\\tag\\_okt.py:16: UserWarning: \"Twitter\" has changed to \"Okt\" since KoNLPy v0.4.5.\n",
      "  warn('\"Twitter\" has changed to \"Okt\" since KoNLPy v0.4.5.')\n",
      "C:\\Users\\DH\\Anaconda3\\lib\\site-packages\\konlpy\\tag\\_okt.py:16: UserWarning: \"Twitter\" has changed to \"Okt\" since KoNLPy v0.4.5.\n",
      "  warn('\"Twitter\" has changed to \"Okt\" since KoNLPy v0.4.5.')\n"
     ]
    },
    {
     "name": "stderr",
     "output_type": "stream",
     "text": [
      "C:\\Users\\DH\\Anaconda3\\lib\\site-packages\\konlpy\\tag\\_okt.py:16: UserWarning: \"Twitter\" has changed to \"Okt\" since KoNLPy v0.4.5.\n",
      "  warn('\"Twitter\" has changed to \"Okt\" since KoNLPy v0.4.5.')\n",
      "C:\\Users\\DH\\Anaconda3\\lib\\site-packages\\konlpy\\tag\\_okt.py:16: UserWarning: \"Twitter\" has changed to \"Okt\" since KoNLPy v0.4.5.\n",
      "  warn('\"Twitter\" has changed to \"Okt\" since KoNLPy v0.4.5.')\n",
      "C:\\Users\\DH\\Anaconda3\\lib\\site-packages\\konlpy\\tag\\_okt.py:16: UserWarning: \"Twitter\" has changed to \"Okt\" since KoNLPy v0.4.5.\n",
      "  warn('\"Twitter\" has changed to \"Okt\" since KoNLPy v0.4.5.')\n",
      "C:\\Users\\DH\\Anaconda3\\lib\\site-packages\\konlpy\\tag\\_okt.py:16: UserWarning: \"Twitter\" has changed to \"Okt\" since KoNLPy v0.4.5.\n",
      "  warn('\"Twitter\" has changed to \"Okt\" since KoNLPy v0.4.5.')\n",
      "C:\\Users\\DH\\Anaconda3\\lib\\site-packages\\konlpy\\tag\\_okt.py:16: UserWarning: \"Twitter\" has changed to \"Okt\" since KoNLPy v0.4.5.\n",
      "  warn('\"Twitter\" has changed to \"Okt\" since KoNLPy v0.4.5.')\n",
      "C:\\Users\\DH\\Anaconda3\\lib\\site-packages\\konlpy\\tag\\_okt.py:16: UserWarning: \"Twitter\" has changed to \"Okt\" since KoNLPy v0.4.5.\n",
      "  warn('\"Twitter\" has changed to \"Okt\" since KoNLPy v0.4.5.')\n",
      "C:\\Users\\DH\\Anaconda3\\lib\\site-packages\\konlpy\\tag\\_okt.py:16: UserWarning: \"Twitter\" has changed to \"Okt\" since KoNLPy v0.4.5.\n",
      "  warn('\"Twitter\" has changed to \"Okt\" since KoNLPy v0.4.5.')\n",
      "C:\\Users\\DH\\Anaconda3\\lib\\site-packages\\konlpy\\tag\\_okt.py:16: UserWarning: \"Twitter\" has changed to \"Okt\" since KoNLPy v0.4.5.\n",
      "  warn('\"Twitter\" has changed to \"Okt\" since KoNLPy v0.4.5.')\n",
      "C:\\Users\\DH\\Anaconda3\\lib\\site-packages\\konlpy\\tag\\_okt.py:16: UserWarning: \"Twitter\" has changed to \"Okt\" since KoNLPy v0.4.5.\n",
      "  warn('\"Twitter\" has changed to \"Okt\" since KoNLPy v0.4.5.')\n",
      "C:\\Users\\DH\\Anaconda3\\lib\\site-packages\\konlpy\\tag\\_okt.py:16: UserWarning: \"Twitter\" has changed to \"Okt\" since KoNLPy v0.4.5.\n",
      "  warn('\"Twitter\" has changed to \"Okt\" since KoNLPy v0.4.5.')\n",
      "C:\\Users\\DH\\Anaconda3\\lib\\site-packages\\konlpy\\tag\\_okt.py:16: UserWarning: \"Twitter\" has changed to \"Okt\" since KoNLPy v0.4.5.\n",
      "  warn('\"Twitter\" has changed to \"Okt\" since KoNLPy v0.4.5.')\n",
      "C:\\Users\\DH\\Anaconda3\\lib\\site-packages\\konlpy\\tag\\_okt.py:16: UserWarning: \"Twitter\" has changed to \"Okt\" since KoNLPy v0.4.5.\n",
      "  warn('\"Twitter\" has changed to \"Okt\" since KoNLPy v0.4.5.')\n",
      "C:\\Users\\DH\\Anaconda3\\lib\\site-packages\\konlpy\\tag\\_okt.py:16: UserWarning: \"Twitter\" has changed to \"Okt\" since KoNLPy v0.4.5.\n",
      "  warn('\"Twitter\" has changed to \"Okt\" since KoNLPy v0.4.5.')\n",
      "C:\\Users\\DH\\Anaconda3\\lib\\site-packages\\konlpy\\tag\\_okt.py:16: UserWarning: \"Twitter\" has changed to \"Okt\" since KoNLPy v0.4.5.\n",
      "  warn('\"Twitter\" has changed to \"Okt\" since KoNLPy v0.4.5.')\n",
      "C:\\Users\\DH\\Anaconda3\\lib\\site-packages\\konlpy\\tag\\_okt.py:16: UserWarning: \"Twitter\" has changed to \"Okt\" since KoNLPy v0.4.5.\n",
      "  warn('\"Twitter\" has changed to \"Okt\" since KoNLPy v0.4.5.')\n",
      "C:\\Users\\DH\\Anaconda3\\lib\\site-packages\\konlpy\\tag\\_okt.py:16: UserWarning: \"Twitter\" has changed to \"Okt\" since KoNLPy v0.4.5.\n",
      "  warn('\"Twitter\" has changed to \"Okt\" since KoNLPy v0.4.5.')\n",
      "C:\\Users\\DH\\Anaconda3\\lib\\site-packages\\konlpy\\tag\\_okt.py:16: UserWarning: \"Twitter\" has changed to \"Okt\" since KoNLPy v0.4.5.\n",
      "  warn('\"Twitter\" has changed to \"Okt\" since KoNLPy v0.4.5.')\n",
      "C:\\Users\\DH\\Anaconda3\\lib\\site-packages\\konlpy\\tag\\_okt.py:16: UserWarning: \"Twitter\" has changed to \"Okt\" since KoNLPy v0.4.5.\n",
      "  warn('\"Twitter\" has changed to \"Okt\" since KoNLPy v0.4.5.')\n",
      "C:\\Users\\DH\\Anaconda3\\lib\\site-packages\\konlpy\\tag\\_okt.py:16: UserWarning: \"Twitter\" has changed to \"Okt\" since KoNLPy v0.4.5.\n",
      "  warn('\"Twitter\" has changed to \"Okt\" since KoNLPy v0.4.5.')\n",
      "C:\\Users\\DH\\Anaconda3\\lib\\site-packages\\konlpy\\tag\\_okt.py:16: UserWarning: \"Twitter\" has changed to \"Okt\" since KoNLPy v0.4.5.\n",
      "  warn('\"Twitter\" has changed to \"Okt\" since KoNLPy v0.4.5.')\n",
      "C:\\Users\\DH\\Anaconda3\\lib\\site-packages\\konlpy\\tag\\_okt.py:16: UserWarning: \"Twitter\" has changed to \"Okt\" since KoNLPy v0.4.5.\n",
      "  warn('\"Twitter\" has changed to \"Okt\" since KoNLPy v0.4.5.')\n",
      "C:\\Users\\DH\\Anaconda3\\lib\\site-packages\\konlpy\\tag\\_okt.py:16: UserWarning: \"Twitter\" has changed to \"Okt\" since KoNLPy v0.4.5.\n",
      "  warn('\"Twitter\" has changed to \"Okt\" since KoNLPy v0.4.5.')\n",
      "C:\\Users\\DH\\Anaconda3\\lib\\site-packages\\konlpy\\tag\\_okt.py:16: UserWarning: \"Twitter\" has changed to \"Okt\" since KoNLPy v0.4.5.\n",
      "  warn('\"Twitter\" has changed to \"Okt\" since KoNLPy v0.4.5.')\n",
      "C:\\Users\\DH\\Anaconda3\\lib\\site-packages\\konlpy\\tag\\_okt.py:16: UserWarning: \"Twitter\" has changed to \"Okt\" since KoNLPy v0.4.5.\n",
      "  warn('\"Twitter\" has changed to \"Okt\" since KoNLPy v0.4.5.')\n",
      "C:\\Users\\DH\\Anaconda3\\lib\\site-packages\\konlpy\\tag\\_okt.py:16: UserWarning: \"Twitter\" has changed to \"Okt\" since KoNLPy v0.4.5.\n",
      "  warn('\"Twitter\" has changed to \"Okt\" since KoNLPy v0.4.5.')\n",
      "C:\\Users\\DH\\Anaconda3\\lib\\site-packages\\konlpy\\tag\\_okt.py:16: UserWarning: \"Twitter\" has changed to \"Okt\" since KoNLPy v0.4.5.\n",
      "  warn('\"Twitter\" has changed to \"Okt\" since KoNLPy v0.4.5.')\n",
      "C:\\Users\\DH\\Anaconda3\\lib\\site-packages\\konlpy\\tag\\_okt.py:16: UserWarning: \"Twitter\" has changed to \"Okt\" since KoNLPy v0.4.5.\n",
      "  warn('\"Twitter\" has changed to \"Okt\" since KoNLPy v0.4.5.')\n",
      "C:\\Users\\DH\\Anaconda3\\lib\\site-packages\\konlpy\\tag\\_okt.py:16: UserWarning: \"Twitter\" has changed to \"Okt\" since KoNLPy v0.4.5.\n",
      "  warn('\"Twitter\" has changed to \"Okt\" since KoNLPy v0.4.5.')\n",
      "C:\\Users\\DH\\Anaconda3\\lib\\site-packages\\konlpy\\tag\\_okt.py:16: UserWarning: \"Twitter\" has changed to \"Okt\" since KoNLPy v0.4.5.\n",
      "  warn('\"Twitter\" has changed to \"Okt\" since KoNLPy v0.4.5.')\n",
      "C:\\Users\\DH\\Anaconda3\\lib\\site-packages\\konlpy\\tag\\_okt.py:16: UserWarning: \"Twitter\" has changed to \"Okt\" since KoNLPy v0.4.5.\n",
      "  warn('\"Twitter\" has changed to \"Okt\" since KoNLPy v0.4.5.')\n",
      "C:\\Users\\DH\\Anaconda3\\lib\\site-packages\\konlpy\\tag\\_okt.py:16: UserWarning: \"Twitter\" has changed to \"Okt\" since KoNLPy v0.4.5.\n",
      "  warn('\"Twitter\" has changed to \"Okt\" since KoNLPy v0.4.5.')\n",
      "C:\\Users\\DH\\Anaconda3\\lib\\site-packages\\konlpy\\tag\\_okt.py:16: UserWarning: \"Twitter\" has changed to \"Okt\" since KoNLPy v0.4.5.\n",
      "  warn('\"Twitter\" has changed to \"Okt\" since KoNLPy v0.4.5.')\n"
     ]
    }
   ],
   "source": [
    "#임포트말고 직접실행\n",
    "if __name__ == \"__main__\":\n",
    "    #study()\n",
    "    #print(\"===============================================================================================\")\n",
    "    main()"
   ]
  },
  {
   "cell_type": "code",
   "execution_count": null,
   "metadata": {},
   "outputs": [],
   "source": []
  },
  {
   "cell_type": "code",
   "execution_count": null,
   "metadata": {},
   "outputs": [],
   "source": []
  }
 ],
 "metadata": {
  "kernelspec": {
   "display_name": "Python 3",
   "language": "python",
   "name": "python3"
  },
  "language_info": {
   "codemirror_mode": {
    "name": "ipython",
    "version": 3
   },
   "file_extension": ".py",
   "mimetype": "text/x-python",
   "name": "python",
   "nbconvert_exporter": "python",
   "pygments_lexer": "ipython3",
   "version": "3.7.3"
  }
 },
 "nbformat": 4,
 "nbformat_minor": 2
}
